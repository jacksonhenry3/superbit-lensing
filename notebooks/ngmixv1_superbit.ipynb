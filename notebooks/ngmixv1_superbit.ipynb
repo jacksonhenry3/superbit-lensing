{
 "cells": [
  {
   "cell_type": "markdown",
   "metadata": {},
   "source": [
    "This notebooks shows how we have implemented ngmix v1.3.9 in SuperBIT pipeline.  \n",
    "\n",
    "Similar piece of code has been implemented in [```superbit_lensing/metacalibration/ngmix_fit_superbit3.py```](https://github.com/superbit-collaboration/superbit-lensing/blob/main/superbit_lensing/metacalibration/ngmix_fit_superbit3.py#L438-L495)"
   ]
  },
  {
   "cell_type": "code",
   "execution_count": 1,
   "metadata": {},
   "outputs": [],
   "source": [
    "import numpy as np\n",
    "import ngmix\n",
    "from ngmix import joint_prior\n",
    "from ngmix.priors import *\n",
    "import galsim\n",
    "from astropy.table import Table, Row, vstack, hstack\n",
    "from ngmix.medsreaders import NGMixMEDS\n",
    "from copy import deepcopy\n",
    "import os\n",
    "import matplotlib.pyplot as plt\n",
    "import matplotlib.colors as colors\n",
    "norm=colors.Normalize()\n",
    "norm2 = colors.SymLogNorm(linthresh=1e-4,base=np.e)\n",
    "norm3 = colors.SymLogNorm(linthresh=1e-3,base=np.e)"
   ]
  },
  {
   "cell_type": "code",
   "execution_count": 2,
   "metadata": {},
   "outputs": [],
   "source": [
    "seed = 42\n",
    "rng = np.random.RandomState(seed)\n",
    "fname = '/work/mccleary_group/saha/data/PLCKG287d0p32d9/b/backups/PLCKG287d0p32d9_b_meds.fits'\n",
    "medsObj = NGMixMEDS(fname)"
   ]
  },
  {
   "cell_type": "code",
   "execution_count": 3,
   "metadata": {},
   "outputs": [],
   "source": [
    "def _get_priors(seed):\n",
    "\n",
    "    # This bit is needed for ngmix v2.x.x\n",
    "    # won't work for v1.x.x\n",
    "    rng = np.random.RandomState(seed)\n",
    "\n",
    "    # prior on ellipticity.  The details don't matter, as long\n",
    "    # as it regularizes the fit.  This one is from Bernstein & Armstrong 2014\n",
    "\n",
    "    g_sigma = 0.3\n",
    "    g_prior = ngmix.priors.GPriorBA(g_sigma, rng=rng)\n",
    "\n",
    "    # 2-d gaussian prior on the center\n",
    "    # row and column center (relative to the center of the jacobian, which would be zero)\n",
    "    # and the sigma of the gaussians\n",
    "\n",
    "    # units same as jacobian, probably arcsec\n",
    "    row, col = 0.0, 0.0\n",
    "    row_sigma, col_sigma = 0.2, 0.2 # a bit smaller than pix size of SuperBIT\n",
    "    cen_prior = ngmix.priors.CenPrior(row, col, row_sigma, col_sigma, rng=rng)\n",
    "\n",
    "    # T prior.  This one is flat, but another uninformative you might\n",
    "    # try is the two-sided error function (TwoSidedErf)\n",
    "\n",
    "    Tminval = -1.0 # arcsec squared\n",
    "    Tmaxval = 1000\n",
    "    T_prior = ngmix.priors.FlatPrior(Tminval, Tmaxval, rng=rng)\n",
    "\n",
    "    # similar for flux.  Make sure the bounds make sense for\n",
    "    # your images\n",
    "\n",
    "    Fminval = -1.e1\n",
    "    Fmaxval = 1.e5\n",
    "    F_prior = ngmix.priors.FlatPrior(Fminval, Fmaxval, rng=rng)\n",
    "\n",
    "    # now make a joint prior.  This one takes priors\n",
    "    # for each parameter separately\n",
    "    priors = ngmix.joint_prior.PriorSimpleSep(\n",
    "    cen_prior,\n",
    "    g_prior,\n",
    "    T_prior,\n",
    "    F_prior)\n",
    "\n",
    "    return priors\n",
    "\n",
    "def make_struct(res, shear_type):\n",
    "    \"\"\"\n",
    "    make the data structure\n",
    "\n",
    "    Parameters\n",
    "    ----------\n",
    "    res: dict\n",
    "        With keys 's2n', 'e', and 'T'\n",
    "    obs: ngmix.Observation\n",
    "        The observation for this shear type\n",
    "    shear_type: str\n",
    "        The shear type\n",
    "\n",
    "    Returns\n",
    "    -------\n",
    "    1-element array with fields\n",
    "    \"\"\"\n",
    "    dt = [\n",
    "        ('flags', 'i4'),\n",
    "        ('shear_type', 'U7'),\n",
    "        ('s2n', 'f8'),\n",
    "        ('g', 'f8', 2),\n",
    "        ('T', 'f8'),\n",
    "        ('Tpsf', 'f8'),\n",
    "    ]\n",
    "    data = np.zeros(1, dtype=dt)\n",
    "    data['shear_type'] = shear_type\n",
    "    data['flags'] = res['flags']\n",
    "\n",
    "    if res['flags'] == 0:\n",
    "        data['s2n'] = res['s2n']\n",
    "        # for Gaussian moments we are actually measureing e, the ellipticity\n",
    "        try:\n",
    "            data['g'] = res['e']\n",
    "        except KeyError:\n",
    "            data['g'] = res['g']\n",
    "        data['T'] = res['T']\n",
    "        data['Tpsf'] = res['Tpsf']\n",
    "    else:\n",
    "        data['s2n'] = np.nan\n",
    "        data['g'] = np.nan\n",
    "        data['T'] = np.nan\n",
    "        data['Tpsf'] = np.nan\n",
    "\n",
    "    return data"
   ]
  },
  {
   "cell_type": "code",
   "execution_count": 4,
   "metadata": {},
   "outputs": [],
   "source": [
    "obs = medsObj.get_obslist(4444, weight_type='uberseg')\n",
    "se_obslist = ngmix.ObsList(meta=deepcopy(obs._meta))\n",
    "for ob in obs[1:]: # to exclude meds coadd\n",
    "    se_obslist.append(ob)\n",
    "obslist = se_obslist"
   ]
  },
  {
   "cell_type": "code",
   "execution_count": 5,
   "metadata": {},
   "outputs": [
    {
     "name": "stderr",
     "output_type": "stream",
     "text": [
      "/work/mccleary_group/saha/codes/ngmix-1.3.9/ngmix/fitting_nb.py:169: NumbaExperimentalFeatureWarning: Record(u[type=float64;offset=0],v[type=float64;offset=8],val[type=float64;offset=16],ierr[type=float64;offset=24],fdiff[type=float64;offset=32];40;False) has been considered a subtype of Record(u[type=float64;offset=0],v[type=float64;offset=8];16;False)  This is an experimental feature.\n",
      "  model_val = gmix_eval_pixel_fast(gmix, pixel)\n"
     ]
    }
   ],
   "source": [
    "mcal_shear = 0.01\n",
    "lm_pars = {'maxfev':2000, 'xtol':5.0e-5, 'ftol':5.0e-5}\n",
    "metacal_pars={'step':mcal_shear, 'rng': rng}\n",
    "max_pars = {'method':'lm', 'lm_pars':lm_pars, 'find_center':True}\n",
    "prior = _get_priors(seed)\n",
    "# get image pixel scale (assumes constant across list)\n",
    "jacobian = obslist[0]._jacobian\n",
    "Tguess = 4*jacobian.get_scale()**2\n",
    "ntry = 20\n",
    "psf_model = 'coellip5'\n",
    "gal_model = 'gauss'\n",
    "\n",
    "# Run the actual metacalibration fits on the observed galaxies\n",
    "mcb = ngmix.bootstrap.MaxMetacalBootstrapper(obslist)\n",
    "mcb.fit_metacal(psf_model, gal_model, max_pars, Tguess, prior=prior,\n",
    "                ntry=ntry, metacal_pars=metacal_pars)\n",
    "resdict = mcb.get_metacal_result() "
   ]
  },
  {
   "cell_type": "code",
   "execution_count": 6,
   "metadata": {},
   "outputs": [
    {
     "name": "stdout",
     "output_type": "stream",
     "text": [
      "'int' object is not subscriptable\n"
     ]
    }
   ],
   "source": [
    "dlist = []\n",
    "for stype, sres in resdict.items():\n",
    "    try: \n",
    "        st = make_struct(res=sres, shear_type=stype)\n",
    "    except Exception as e:\n",
    "        print(e)\n",
    "        continue\n",
    "    dlist.append(st)\n",
    "\n",
    "data = np.hstack(dlist)"
   ]
  },
  {
   "cell_type": "code",
   "execution_count": 7,
   "metadata": {},
   "outputs": [
    {
     "data": {
      "text/plain": [
       "array([(0, '1m', 90.48326187, [ 0.11351608, -0.23308908], 0.11065499, 1.31885876),\n",
       "       (0, '1m_psf', 90.99163723, [ 0.14853564, -0.23175385], 0.10345196, 1.21197285),\n",
       "       (0, '1p', 90.44040051, [ 0.13086354, -0.22573577], 0.11161491, 1.31175512),\n",
       "       (0, '1p_psf', 90.36487992, [ 0.10239476, -0.22800108], 0.12257008, 1.27122   ),\n",
       "       (0, '2m', 90.62756257, [ 0.13265692, -0.25356834], 0.10742093, 1.27322336),\n",
       "       (0, '2m_psf', 90.72031685, [ 0.12029177, -0.23504861], 0.10308314, 1.32912777),\n",
       "       (0, '2p', 90.84804008, [ 0.14398122, -0.24638765], 0.09643692, 1.31893382),\n",
       "       (0, '2p_psf', 91.75178873, [ 0.00921386, -0.22595474], 0.17296009, 1.17149645),\n",
       "       (0, 'noshear', 90.52408907, [ 0.10989519, -0.23251989], 0.10186874, 1.29902004)],\n",
       "      dtype=[('flags', '<i4'), ('shear_type', '<U7'), ('s2n', '<f8'), ('g', '<f8', (2,)), ('T', '<f8'), ('Tpsf', '<f8')])"
      ]
     },
     "execution_count": 7,
     "metadata": {},
     "output_type": "execute_result"
    }
   ],
   "source": [
    "data "
   ]
  }
 ],
 "metadata": {
  "kernelspec": {
   "display_name": "bit_v1",
   "language": "python",
   "name": "python3"
  },
  "language_info": {
   "codemirror_mode": {
    "name": "ipython",
    "version": 3
   },
   "file_extension": ".py",
   "mimetype": "text/x-python",
   "name": "python",
   "nbconvert_exporter": "python",
   "pygments_lexer": "ipython3",
   "version": "3.12.7"
  }
 },
 "nbformat": 4,
 "nbformat_minor": 2
}
